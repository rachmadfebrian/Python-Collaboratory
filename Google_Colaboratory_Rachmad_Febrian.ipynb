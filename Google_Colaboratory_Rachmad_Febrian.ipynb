{
  "nbformat": 4,
  "nbformat_minor": 0,
  "metadata": {
    "kernelspec": {
      "display_name": "Python 3",
      "language": "python",
      "name": "python3"
    },
    "language_info": {
      "codemirror_mode": {
        "name": "ipython",
        "version": 3
      },
      "file_extension": ".py",
      "mimetype": "text/x-python",
      "name": "python",
      "nbconvert_exporter": "python",
      "pygments_lexer": "ipython3",
      "version": "3.7.6"
    },
    "colab": {
      "name": "Google Colaboratory - Rachmad Febrian.ipynb",
      "provenance": [],
      "collapsed_sections": [],
      "include_colab_link": true
    }
  },
  "cells": [
    {
      "cell_type": "markdown",
      "metadata": {
        "id": "view-in-github",
        "colab_type": "text"
      },
      "source": [
        "<a href=\"https://colab.research.google.com/github/rachmadfebrian/Python-Collaboratory/blob/main/Google_Colaboratory_Rachmad_Febrian.ipynb\" target=\"_parent\"><img src=\"https://colab.research.google.com/assets/colab-badge.svg\" alt=\"Open In Colab\"/></a>"
      ]
    },
    {
      "cell_type": "markdown",
      "metadata": {
        "id": "qZPNdHjpbAzL"
      },
      "source": [
        "<p><img alt=\"Colaboratory logo\" height=\"45px\" src=\"/img/colab_favicon.ico\" align=\"left\" hspace=\"10px\" vspace=\"0px\"></p>\n",
        "\n",
        "<h1>Apa itu Google Colaboratory?</h1>"
      ]
    },
    {
      "cell_type": "markdown",
      "metadata": {
        "id": "MuBRVWQlcmKE"
      },
      "source": [
        "Colaboratory atau disingkat 'Colab', digunakan untuk menulis dan mengeksekusi Python di browser Anda dengan keuntungan sebagai berikut :\n",
        "1. Tidak perlu konfigurasi\n",
        "2. Akses gratis ke GPU\n",
        "3. Berbagi dengan mudah\n",
        "Jika Anda seorang **Pelajar**, **Data Scientist** atau **AI Researcher**, Colab dapat membuat pekerjaan Anda menjadi lebih mudah."
      ]
    },
    {
      "cell_type": "markdown",
      "metadata": {
        "id": "T4U3AB_PdsNz"
      },
      "source": [
        "## **Getting Started**\n",
        "\n",
        "Dokumen yang Anda baca bukanlah halaman web statis, tetapi lingkungan interaktif yang disebut **Colab notebook** yang memungkinkan Anda menulis dan mengeksekusi code.\n",
        "\n",
        "Contoh berikut adalah sel kode dengan skrip Python pendek yang menghitung nilai, menyimpannya dalam variabel dan mencetak hasilnya :"
      ]
    },
    {
      "cell_type": "code",
      "metadata": {
        "colab": {
          "base_uri": "https://localhost:8080/"
        },
        "id": "4TcmWjaieoe4",
        "outputId": "84725f72-ee40-4ba4-9687-c3e4f8ce7827"
      },
      "source": [
        "seconds_in_a_day = 24 * 60 * 60\n",
        "seconds_in_a_day"
      ],
      "execution_count": null,
      "outputs": [
        {
          "output_type": "execute_result",
          "data": {
            "text/plain": [
              "86400"
            ]
          },
          "metadata": {
            "tags": []
          },
          "execution_count": 7
        }
      ]
    },
    {
      "cell_type": "markdown",
      "metadata": {
        "id": "fE97qkmefhNw"
      },
      "source": [
        "Untuk menjalankan kode pada sel di atas, pilih dengan satu klik lalu tekan play button di sebelah kiri kode, atau gunakan pintasan keyboard \"Command / Ctrl / Shift + Enter\". Untuk mengedit kode, cukup klik sel dan mulai mengedit.\n",
        "\n",
        "Variabek yang Anda tentukan dalam satu sel nantinya dapat digunakan di sel lain:"
      ]
    },
    {
      "cell_type": "code",
      "metadata": {
        "colab": {
          "base_uri": "https://localhost:8080/"
        },
        "id": "cEhGg9UqfGem",
        "outputId": "af916b71-56c9-4cff-ffdd-0f60b007e1e3"
      },
      "source": [
        "seconds_in_a_week = 7 * seconds_in_a_day\n",
        "seconds_in_a_week"
      ],
      "execution_count": null,
      "outputs": [
        {
          "output_type": "execute_result",
          "data": {
            "text/plain": [
              "604800"
            ]
          },
          "metadata": {
            "tags": []
          },
          "execution_count": 4
        }
      ]
    },
    {
      "cell_type": "markdown",
      "metadata": {
        "id": "ZG5WSFxQgk5X"
      },
      "source": [
        "Colab notebook memungkinkan Anda menggabungkan kode yang dapat dieksekusi dan banyak teks dalam satu dokumen, bersama dengan gambar, HTML, LaTeX dan lainnya. Saat Anda membuat Colab notebook Anda sendiri, notebook tersebut disimpan di akun Google Drive Anda. Anda dapat dengan mudah membagikan Colab notebook Anda dengan rekan kerja atau teman, mengizinkan mereka untuk mengomentari notebook Anda atau bahkan mengeditnya. Untuk membuat Colab notebook baru, Anda dapat menggunakan menu File di atas."
      ]
    },
    {
      "cell_type": "markdown",
      "metadata": {
        "id": "gA61O-rBiVzO"
      },
      "source": [
        "## **Data science**\n",
        "\n",
        "Dengan Colab Anda dapat memanfaatkan full power dari Python libraries yang populer untuk menganalisis dan memvisualisasikan data. Sel kode di bawah ini menggunakan **numpy** untuk menghasilkan beberapa data acak, dan menggunakan **matplotlib** untuk memvisualisasikannya. Untuk mengedit kode, cukup klik sel dan memulai mengedit."
      ]
    },
    {
      "cell_type": "code",
      "metadata": {
        "colab": {
          "base_uri": "https://localhost:8080/",
          "height": 281
        },
        "id": "QkLXBVEZgK-k",
        "outputId": "c4ee14ca-08c7-4343-9d79-0b0f6b477baa"
      },
      "source": [
        "import numpy as np\n",
        "from matplotlib import pyplot as plt\n",
        "\n",
        "ys = 200 + np.random.randn(100)\n",
        "x = [x for x in range(len(ys))]\n",
        "\n",
        "plt.plot(x, ys, '-')\n",
        "plt.fill_between(x, ys, 195, where=(ys > 195), facecolor='g', alpha=0.6)\n",
        "\n",
        "plt.title(\"Sample Visualization\")\n",
        "plt.show()"
      ],
      "execution_count": null,
      "outputs": [
        {
          "output_type": "display_data",
          "data": {
            "image/png": "[encoded data removed]",
            "text/plain": [
              "<Figure size 432x288 with 1 Axes>"
            ]
          },
          "metadata": {
            "tags": [],
            "needs_background": "light"
          }
        }
      ]
    },
    {
      "cell_type": "markdown",
      "metadata": {
        "id": "yGP8kPdfkyeK"
      },
      "source": [
        "Anda dapat mengimpor data Anda sendiri ke Colab notebook dari akun Google Drive Anda, termasuk dari spreadsheet, serta dari Github dan banyak sumber lainnya."
      ]
    },
    {
      "cell_type": "markdown",
      "metadata": {
        "id": "ExphL7d2mEax"
      },
      "source": [
        "## **Machine Learning**\n",
        "\n",
        "Dengan Colab Anda dapat mengimpor kumpulan data gambar, melatih pengklasifikasi gambar di atasnya, dan mengevaluasi model, semuanya hanya dalam beberapa baris kode. Colab notebook mengeksekusi kode di server cloud Google, yang berarti Anda dapat memanfaatkan kekuatan perangkat keras Google, termasuk GPU dan TPU, terlepas dari kekuatan mesin Anda. Yang Anda butuhkan hanyalah browser."
      ]
    },
    {
      "cell_type": "markdown",
      "metadata": {
        "id": "577G-pEcmmzC"
      },
      "source": [
        "Colab digunakan secara luas dalam komunitas machine learning dengan aplikasi termasuk : \n",
        "- Memulai Tensorflow\n",
        "- Mengembangkan dan melatih Jaringan Saraf Tiruan (Neural Networks)\n",
        "- Bereksperimen dengan TPU\n",
        "- Menyebarluaskan penelitian AI (Artificial Intelligence)\n",
        "- Membuat tutorial"
      ]
    },
    {
      "cell_type": "markdown",
      "metadata": {
        "id": "MNyPnceZqN89"
      },
      "source": [
        "## **Apa itu Markdown?**\n",
        "\n",
        "Colab memiliki dua jenis sel : teks dan kode. Sel teks diformat menggunakan bahasa markup sederhana yang disebut Markdown.\n",
        "\n",
        "Untuk melihat sumber Markdown, klik dua kali sel teks, yang memperlihatkan sumber Markdown dan versi yang diberikan. Di atas sumber Markdown ada toolbar untuk membantu pengeditan."
      ]
    },
    {
      "cell_type": "markdown",
      "metadata": {
        "id": "dt5T-7eHrVg_"
      },
      "source": [
        "## Reference\n",
        "\n",
        "Markdown | Preview\n",
        "--- | ---\n",
        "`**bold text**` | **bold text**\n",
        "`*italicized text*` or `_italicized text_` | *italicized text*\n",
        "`` `Monospace` `` | `Monospace`\n",
        "`~~strikethrough~~` | ~~strikethrough~~\n",
        "`[A link](https://www.google.com)` | [A link](https://www.google.com)\n",
        "`![An image](https://www.google.com/images/rss.png)` | ![An image](https://www.google.com/images/rss.png)\n",
        "\n",
        "\n",
        "---\n",
        "Headings diberikan nama sebagai judul.\n",
        "\n",
        "```markdown\n",
        "# Section 1\n",
        "# Section 2\n",
        "## Sub-section di bawah Section 2\n",
        "### Sub-section di bawah dari sub-section Section 2\n",
        "# Section 3\n",
        "```\n",
        "\n",
        "# Section 1\n",
        "# Section 2\n",
        "## Sub-section di bawah Section 2\n",
        "### Sub-section di bawah sub-section Section 2\n",
        "# Section 3\n",
        "\n",
        "Daftar isi tersedia di sisi kiri Colab, diisi menggunakan paling banyak satu judul bagian dari setiap sel teks.\n",
        "\n",
        "---\n",
        "\n",
        "```markdown\n",
        ">One level of indentation\n",
        "```\n",
        "\n",
        ">One level of indentation\n",
        "\n",
        "\n",
        "```markdown\n",
        ">>Two levels of indentation\n",
        "```\n",
        "\n",
        ">>Two levels of indentation\n",
        "\n",
        "---\n",
        "\n",
        "Code blocks\n",
        "\n",
        "````\n",
        "```python\n",
        "print(\"a\")\n",
        "```\n",
        "````\n",
        "\n",
        "```python\n",
        "print(\"a\")\n",
        "```\n",
        "\n",
        "---\n",
        "\n",
        "Ordered lists:\n",
        "```markdown\n",
        "1. One\n",
        "1. Two\n",
        "1. Three\n",
        "```\n",
        "1. One\n",
        "1. Two\n",
        "1. Three\n",
        "\n",
        "---\n",
        "\n",
        "Unordered lists:\n",
        "```markdown\n",
        "* One\n",
        "* Two\n",
        "* Three\n",
        "```\n",
        "* One\n",
        "* Two\n",
        "* Three\n",
        "\n",
        "---\n",
        "\n",
        "Equations:\n",
        "\n",
        "```markdown\n",
        "$y=x^2$\n",
        "\n",
        "$e^{i\\pi} + 1 = 0$\n",
        "\n",
        "$e^x=\\sum_{i=0}^\\infty \\frac{1}{i!}x^i$\n",
        "\n",
        "$\\frac{n!}{k!(n-k)!} = {n \\choose k}$\n",
        "\n",
        "$A_{m,n} =\n",
        " \\begin{pmatrix}\n",
        "  a_{1,1} & a_{1,2} & \\cdots & a_{1,n} \\\\\n",
        "  a_{2,1} & a_{2,2} & \\cdots & a_{2,n} \\\\\n",
        "  \\vdots  & \\vdots  & \\ddots & \\vdots  \\\\\n",
        "  a_{m,1} & a_{m,2} & \\cdots & a_{m,n}\n",
        " \\end{pmatrix}$\n",
        "```\n",
        "\n",
        "$y=x^2$\n",
        "\n",
        "$e^{i\\pi} + 1 = 0$\n",
        "\n",
        "$e^x=\\sum_{i=0}^\\infty \\frac{1}{i!}x^i$\n",
        "\n",
        "$\\frac{n!}{k!(n-k)!} = {n \\choose k}$\n",
        "\n",
        "$A_{m,n} =\n",
        " \\begin{pmatrix}\n",
        "  a_{1,1} & a_{1,2} & \\cdots & a_{1,n} \\\\\n",
        "  a_{2,1} & a_{2,2} & \\cdots & a_{2,n} \\\\\n",
        "  \\vdots  & \\vdots  & \\ddots & \\vdots  \\\\\n",
        "  a_{m,1} & a_{m,2} & \\cdots & a_{m,n}\n",
        " \\end{pmatrix}$\n",
        "\n",
        "\n",
        " ---\n",
        "\n",
        "Tables:\n",
        "```markdown\n",
        "First column name  | Second column name \n",
        "-------------------|------------------\n",
        "Row 1, Col 1       | Row 1, Col 2 \n",
        "Row 2, Col 1       | Row 2, Col 2 \n",
        "\n",
        "```\n",
        "\n",
        "First column name  | Second column name \n",
        "-------------------|------------------\n",
        "Row 1, Col 1       | Row 1, Col 2 \n",
        "Row 2, Col 1       | Row 2, Col 2 \n",
        "\n",
        "---\n",
        "\n",
        "Horizontal rules:\n",
        "```markdown\n",
        "---\n",
        "```\n",
        "\n",
        "---\n",
        "\n",
        "\n"
      ]
    },
    {
      "cell_type": "markdown",
      "metadata": {
        "id": "87nrNh-Nr3f-"
      },
      "source": [
        "## Perbedaan antara Colab Markdown dan dialek Markdown lainnya\n",
        "\n",
        "Colab menggunakan [marked.js](https://github.com/chjj/marked) dan sangat mirip tetapi tidak cukup identik dengan Markdown yang digunakan oleh Jupyter dan Github.\n",
        "\n",
        "Colab mendukung persamaan (MathJax) $\\LaTeX$ seperti Jupyter, tetapi tidak mengizinkan tag HTML dalam Markdown. Colab tidak mendukung beberapa tambahan GitHub seperti emoji dan to-do checkboxes.\n",
        "\n",
        "Jika HTML harus disertakan dalam Colab notebook, lihat [%%html magic](/notebooks/basic_features_overview.ipynb#scrollTo=qM4myQGfQboQ)."
      ]
    },
    {
      "cell_type": "markdown",
      "metadata": {
        "id": "SK49bZSAMda2"
      },
      "source": [
        "## **Loading Data**\n",
        "\n",
        "Colab notebook menyediakan beberapa pilihan untuk loading data antara lain : Local Files, Drive, Sheets, and Cloud Storage"
      ]
    },
    {
      "cell_type": "markdown",
      "metadata": {
        "id": "cGgyNi3HPMa3"
      },
      "source": [
        "# Local file"
      ]
    },
    {
      "cell_type": "markdown",
      "metadata": {
        "id": "rFtn7hHlPOYB"
      },
      "source": [
        "## Mengupload file dari sistem local file\n",
        "\n",
        "`files.upload` mengembalikan dictionary dari file yang diunggah. dictionary di kunci dengan nama file dan nilai adalah data yang diunggah."
      ]
    },
    {
      "cell_type": "code",
      "metadata": {
        "colab": {
          "resources": {
            "http://localhost:8080/nbextensions/google.colab/files.js": {
              "data": "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",
              "ok": true,
              "headers": [
                [
                  "content-type",
                  "application/javascript"
                ]
              ],
              "status": 200,
              "status_text": ""
            }
          },
          "base_uri": "https://localhost:8080/",
          "height": 38
        },
        "id": "v6-IhysCmCXY",
        "outputId": "e16bedc7-44d9-4c1c-d81a-d3e4a55c0b1e"
      },
      "source": [
        "from google.colab import files\n",
        "\n",
        "uploaded = files.upload()\n",
        "\n",
        "for fn in uploaded.keys():\n",
        "  print('User uploaded file \"{name}\" with length {length} bytes'.format(\n",
        "      name=fn, length=len(uploaded[fn])))"
      ],
      "execution_count": null,
      "outputs": [
        {
          "output_type": "display_data",
          "data": {
            "text/html": [
              "\n",
              "     <input type=\"file\" id=\"files-a15b0bb2-6c6f-4679-813d-6ebd3d6388ba\" name=\"files[]\" multiple disabled\n",
              "        style=\"border:none\" />\n",
              "     <output id=\"result-a15b0bb2-6c6f-4679-813d-6ebd3d6388ba\">\n",
              "      Upload widget is only available when the cell has been executed in the\n",
              "      current browser session. Please rerun this cell to enable.\n",
              "      </output>\n",
              "      <script src=\"/nbextensions/google.colab/files.js\"></script> "
            ],
            "text/plain": [
              "<IPython.core.display.HTML object>"
            ]
          },
          "metadata": {
            "tags": []
          }
        }
      ]
    },
    {
      "cell_type": "markdown",
      "metadata": {
        "id": "H_zJM0usPsnF"
      },
      "source": [
        "## Mengunduh file ke sistem local file\n",
        "\n",
        "`files.download` akan menjalankan unduhan browser dari file tersebut ke komputer Anda.\n"
      ]
    },
    {
      "cell_type": "code",
      "metadata": {
        "id": "ZdftyX8vPWED"
      },
      "source": [
        "from google.colab import files\n",
        "\n",
        "with open('example.txt', 'w') as f:\n",
        "  f.write('some content')\n",
        "\n",
        "files.download('example.txt')"
      ],
      "execution_count": null,
      "outputs": []
    },
    {
      "cell_type": "markdown",
      "metadata": {
        "id": "Dpq9bYhNPwuo"
      },
      "source": [
        "# Google Drive\n",
        "\n",
        "Anda dapat mengakses file di Drive dengan berbagai cara, yaitu:\n",
        "- Memasang Google Drive Anda di runtime's virtual machine\n",
        "- Menggunakan kurung di sekitar API seperti [PyDrive](https://pythonhosted.org/PyDrive/)\n",
        "- Menggunakan [native REST API](https://developers.google.com/drive/v3/web/about-sdk)\n",
        "\n",
        "\n",
        "\n",
        "Examples of each are below."
      ]
    },
    {
      "cell_type": "markdown",
      "metadata": {
        "id": "loYrLJbcQmId"
      },
      "source": [
        "## Memasang Google Drive secara lokal\n",
        "\n",
        "Contoh di bawah ini menunjukkan cara memasang Google Drive Anda pada waktu proses menggunakan kode otorisasi, dan cara menulis serta membaca file. Setelah dijalankan, Anda dapat melihat file baru (`foo.txt`) di [https://drive.google.com/](https://drive.google.com/).\n",
        "\n",
        "Ini hanya mendukung membaca, menulis, dan memindahkan file; untuk mengubah setelan berbagai atau metadata lainnya secara terprogram, gunakan salah satu opsi di bawah ini.\n",
        "\n",
        "**Catatan:** Saat menggunakan tombol'Mount Drive', kode autentikasi tidak diperlukan untuk notebook yang hanya diedit oleh user saat ini."
      ]
    },
    {
      "cell_type": "code",
      "metadata": {
        "id": "dXWGAI6hP5dj"
      },
      "source": [
        "from google.colab import drive\n",
        "drive.mount('/content/drive')"
      ],
      "execution_count": null,
      "outputs": []
    },
    {
      "cell_type": "code",
      "metadata": {
        "id": "7Zp31fW_Q1aD"
      },
      "source": [
        "with open('/content/drive/My Drive/foo.txt', 'w') as f:\n",
        "  f.write('Hello Google Drive!')\n",
        "!cat /content/drive/My\\ Drive/foo.txt"
      ],
      "execution_count": null,
      "outputs": []
    },
    {
      "cell_type": "code",
      "metadata": {
        "id": "tOUzwoEGQ7cE"
      },
      "source": [
        "drive.flush_and_unmount()\n",
        "print('All changes made in this colab session should now be visible in Drive.')"
      ],
      "execution_count": null,
      "outputs": []
    },
    {
      "cell_type": "markdown",
      "metadata": {
        "id": "xDtJCEtDROrw"
      },
      "source": [
        "## PyDrive\n",
        "\n",
        "Contoh di bawah ini menunjukkan otentikasi dan unggah / unduh fike menggunakan PyDrive. Contoh lainnya tersedia di [dokumentasi PyDrive](https://pythonhosted.org/PyDrive/)."
      ]
    },
    {
      "cell_type": "code",
      "metadata": {
        "id": "w-vWBL-wRPM6"
      },
      "source": [
        "from pydrive.auth import GoogleAuth\n",
        "from pydrive.drive import GoogleDrive\n",
        "from google.colab import auth\n",
        "from oauth2client.client import GoogleCredentials"
      ],
      "execution_count": null,
      "outputs": []
    },
    {
      "cell_type": "markdown",
      "metadata": {
        "id": "qk3y1uD3VDmD"
      },
      "source": [
        "Otentikasi dan membuat PyDrive client."
      ]
    },
    {
      "cell_type": "code",
      "metadata": {
        "id": "Yd_YjqMsVEID"
      },
      "source": [
        "auth.authenticate_user()\n",
        "gauth = GoogleAuth()\n",
        "gauth.credentials = GoogleCredentials.get_application_default()\n",
        "drive = GoogleDrive(gauth)"
      ],
      "execution_count": null,
      "outputs": []
    },
    {
      "cell_type": "markdown",
      "metadata": {
        "id": "bEmU4Y7PVIJA"
      },
      "source": [
        "Membuat dan upload file teks"
      ]
    },
    {
      "cell_type": "code",
      "metadata": {
        "id": "U0uCln_NVIkE"
      },
      "source": [
        "uploaded = drive.CreateFile({'title': 'Sample upload.txt'})\n",
        "uploaded.SetContentString('Sample upload file content')\n",
        "uploaded.Upload()\n",
        "print('Uploaded file with ID {}'.format(uploaded.get('id')))"
      ],
      "execution_count": null,
      "outputs": []
    },
    {
      "cell_type": "markdown",
      "metadata": {
        "id": "OtPbhdxKVL31"
      },
      "source": [
        "Memuat file berdasarkan ID dan print isinya."
      ]
    },
    {
      "cell_type": "code",
      "metadata": {
        "id": "2P4fALtOVN7m"
      },
      "source": [
        "downloaded = drive.CreateFile({'id': uploaded.get('id')})\n",
        "print('Downloaded content \"{}\"'.format(downloaded.GetContentString()))"
      ],
      "execution_count": null,
      "outputs": []
    },
    {
      "cell_type": "markdown",
      "metadata": {
        "id": "kN1LmC08VaQ-"
      },
      "source": [
        "## Drive REST API\n",
        "\n",
        "Untuk menggunakan Drive API, pertama-tama kita harus mengautentikasi dan membuat API client.\n"
      ]
    },
    {
      "cell_type": "code",
      "metadata": {
        "id": "9RrL0ooEVawA"
      },
      "source": [
        "from google.colab import auth\n",
        "auth.authenticate_user()\n",
        "from googleapiclient.discovery import build\n",
        "drive_service = build('drive', 'v3')"
      ],
      "execution_count": null,
      "outputs": []
    },
    {
      "cell_type": "markdown",
      "metadata": {
        "id": "qvotb05yVfqi"
      },
      "source": [
        "Dengan client ini, kita dapat menggunakan salah satu fungsi di referensi API Google Drive [Google Drive API reference](https://developers.google.com/drive/v3/reference/)."
      ]
    },
    {
      "cell_type": "markdown",
      "metadata": {
        "id": "cBWcWnI2Vk6j"
      },
      "source": [
        "### Membuat file Drive baru dengan data dari Python\n",
        "\n",
        "Pertama, buat file lokal untuk diupload."
      ]
    },
    {
      "cell_type": "code",
      "metadata": {
        "id": "AaSyzqtdVgps"
      },
      "source": [
        "with open('/tmp/to_upload.txt', 'w') as f:\n",
        "  f.write('my sample file')\n",
        "\n",
        "print('/tmp/to_upload.txt contains:')\n",
        "!cat /tmp/to_upload.txt"
      ],
      "execution_count": null,
      "outputs": []
    },
    {
      "cell_type": "markdown",
      "metadata": {
        "id": "_y7Hg2wMVrvv"
      },
      "source": [
        "Unggah dengan metode [`files.create`](https://developers.google.com/drive/v3/reference/files/create). Rincian lebih lanjut tentang mengunggah file tersedia di [developer documentation](https://developers.google.com/drive/v3/web/manage-uploads)."
      ]
    },
    {
      "cell_type": "code",
      "metadata": {
        "id": "FRqNpCh_VsTL"
      },
      "source": [
        "from googleapiclient.http import MediaFileUpload\n",
        "\n",
        "file_metadata = {\n",
        "  'name': 'Sample file',\n",
        "  'mimeType': 'text/plain'\n",
        "}\n",
        "media = MediaFileUpload('/tmp/to_upload.txt', \n",
        "                        mimetype='text/plain',\n",
        "                        resumable=True)\n",
        "created = drive_service.files().create(body=file_metadata,\n",
        "                                       media_body=media,\n",
        "                                       fields='id').execute()\n",
        "print('File ID: {}'.format(created.get('id')))"
      ],
      "execution_count": null,
      "outputs": []
    },
    {
      "cell_type": "markdown",
      "metadata": {
        "id": "1kEvjt2hV43S"
      },
      "source": [
        "Setelah menjalankan sel di atas, Anda akan melihat file baru bernama 'Sample file' di [https://drive.google.com/](https://drive.google.com/)."
      ]
    },
    {
      "cell_type": "markdown",
      "metadata": {
        "id": "xtXKgOzzV8TV"
      },
      "source": [
        "### Mendownload data dari file Drive ke Python\n",
        "\n",
        "Unduh file yang kami unggah di atas."
      ]
    },
    {
      "cell_type": "code",
      "metadata": {
        "id": "UOMw3SrrV5V4"
      },
      "source": [
        "file_id = created.get('id')\n",
        "\n",
        "import io\n",
        "from googleapiclient.http import MediaIoBaseDownload\n",
        "\n",
        "request = drive_service.files().get_media(fileId=file_id)\n",
        "downloaded = io.BytesIO()\n",
        "downloader = MediaIoBaseDownload(downloaded, request)\n",
        "done = False\n",
        "while done is False:\n",
        "  # _ is a placeholder for a progress object that we ignore.\n",
        "  # (Our file is small, so we skip reporting progress.)\n",
        "  _, done = downloader.next_chunk()\n",
        "\n",
        "downloaded.seek(0)\n",
        "print('Downloaded file contents are: {}'.format(downloaded.read()))"
      ],
      "execution_count": null,
      "outputs": []
    },
    {
      "cell_type": "markdown",
      "metadata": {
        "id": "fAUZOIQxWCvH"
      },
      "source": [
        "Untuk mengunduh file lain, setel `file_id` di atas ke ID file itu, yang akan terlihat seperti \"1uBtlaggVyWshwcyP6kEI-y_W3P8D26sz\"."
      ]
    },
    {
      "cell_type": "markdown",
      "metadata": {
        "id": "IsZOs3cjWMRq"
      },
      "source": [
        "# Google Spreadsheet\n",
        "\n",
        "Contoh di bawah ini menggunakan open-source [`gspread`](https://github.com/burnash/gspread) untuk berinteraksi dengan Google Spreadsheet."
      ]
    },
    {
      "cell_type": "markdown",
      "metadata": {
        "id": "aW2hrwxcWQYw"
      },
      "source": [
        "Impor pustaka, autentikasi, dan buat antarmuka ke Spreadsheet."
      ]
    },
    {
      "cell_type": "code",
      "metadata": {
        "id": "scgBzFJXWDRm"
      },
      "source": [
        "from google.colab import auth\n",
        "auth.authenticate_user()\n",
        "\n",
        "import gspread\n",
        "from oauth2client.client import GoogleCredentials\n",
        "\n",
        "gc = gspread.authorize(GoogleCredentials.get_application_default())"
      ],
      "execution_count": null,
      "outputs": []
    },
    {
      "cell_type": "markdown",
      "metadata": {
        "id": "3L566_WlWU6z"
      },
      "source": [
        "Di bawah ini adalah sekumpulan kecil contoh `gspread`. Contoh tambahan tersedia di halaman [`gspread` GitHub page](https://github.com/burnash/gspread#more-examples)."
      ]
    },
    {
      "cell_type": "markdown",
      "metadata": {
        "id": "eQbOkJGDWX54"
      },
      "source": [
        "## Membuat new sheet dengan data dari Python"
      ]
    },
    {
      "cell_type": "code",
      "metadata": {
        "id": "0wTuHeYzWVas"
      },
      "source": [
        "sh = gc.create('My cool spreadsheet')"
      ],
      "execution_count": null,
      "outputs": []
    },
    {
      "cell_type": "markdown",
      "metadata": {
        "id": "30HOIpMkWdLw"
      },
      "source": [
        "Setelah menjalankan sel di atas, Anda akan melihat spreadsheet baru bernama 'My cool spreadsheet' di [https://sheets.google.com](https://sheets.google.com/).\n",
        "\n",
        "Buka new sheet dan tambahkan beberapa data acak. "
      ]
    },
    {
      "cell_type": "code",
      "metadata": {
        "id": "ph7QM07XWdnT"
      },
      "source": [
        "worksheet = gc.open('My cool spreadsheet').sheet1\n",
        "\n",
        "cell_list = worksheet.range('A1:C2')\n",
        "\n",
        "import random\n",
        "for cell in cell_list:\n",
        "  cell.value = random.randint(1, 10)\n",
        "\n",
        "worksheet.update_cells(cell_list)"
      ],
      "execution_count": null,
      "outputs": []
    },
    {
      "cell_type": "markdown",
      "metadata": {
        "id": "PQuJzdpxWjJ4"
      },
      "source": [
        "## Mendownload data dari sheet ke Python sebagai Pandas DataFrame\n",
        "\n",
        "Baca kembali data acak yang disisipkan di atas dan ubah hasilnya menjadi [Pandas DataFrame](https://pandas.pydata.org/pandas-docs/stable/generated/pandas.DataFrame.html)."
      ]
    },
    {
      "cell_type": "code",
      "metadata": {
        "id": "5ip0HMxCWjlq"
      },
      "source": [
        "worksheet = gc.open('My cool spreadsheet').sheet1\n",
        "\n",
        "# get_all_values gives a list of rows.\n",
        "rows = worksheet.get_all_values()\n",
        "print(rows)\n",
        "\n",
        "import pandas as pd\n",
        "pd.DataFrame.from_records(rows)"
      ],
      "execution_count": null,
      "outputs": []
    },
    {
      "cell_type": "markdown",
      "metadata": {
        "id": "n1S01ILvd_E0"
      },
      "source": [
        "# Google Cloud Storage (GCS)\n",
        "\n",
        "Untuk menggunakan Colaboratory dengan GCS, Anda harus membuat [Google Cloud project](https://cloud.google.com/storage/docs/projects) atau menggunakan yang sudah ada.\n",
        "\n",
        "Tentukan project Anda di bawah ini:"
      ]
    },
    {
      "cell_type": "code",
      "metadata": {
        "id": "LbcqCVz4d_sl"
      },
      "source": [
        "project_id = 'Your_project_ID_here'"
      ],
      "execution_count": null,
      "outputs": []
    },
    {
      "cell_type": "markdown",
      "metadata": {
        "id": "CO8yNBY1edEc"
      },
      "source": [
        "File di GCS [buckets](https://cloud.google.com/storage/docs/key-terms#buckets).\n",
        "\n",
        "Buckets harus memiliki nama yang unik secara global, jadi membuatnya di sini."
      ]
    },
    {
      "cell_type": "code",
      "metadata": {
        "id": "aaNZqGAkedmP"
      },
      "source": [
        "import uuid\n",
        "bucket_name = 'colab-sample-bucket-' + str(uuid.uuid1())"
      ],
      "execution_count": null,
      "outputs": []
    },
    {
      "cell_type": "markdown",
      "metadata": {
        "id": "OVejofL-eoTK"
      },
      "source": [
        "Untuk mengakses GCS, Anda harus mengautentikasi."
      ]
    },
    {
      "cell_type": "code",
      "metadata": {
        "id": "3IYe2RD7fAQ2"
      },
      "source": [
        "from google.colab import auth\n",
        "auth.authenticate_user()"
      ],
      "execution_count": null,
      "outputs": []
    },
    {
      "cell_type": "markdown",
      "metadata": {
        "id": "Jy3hzurEfFN7"
      },
      "source": [
        "GCS dapat diakses melalui `gsutil` command-line utility atau melalui native Python API."
      ]
    },
    {
      "cell_type": "markdown",
      "metadata": {
        "id": "qF_BV5gnfUku"
      },
      "source": [
        "## `gsutil`\n",
        "\n",
        "Pertama, mengonfigurasi `gsutil` untuk menggunakan proyek yang sudah ditentukan di atas dengan menggunakan `gcloud`."
      ]
    },
    {
      "cell_type": "code",
      "metadata": {
        "id": "Ib0_-soQfF27"
      },
      "source": [
        "!gcloud config set project {project_id}"
      ],
      "execution_count": null,
      "outputs": []
    },
    {
      "cell_type": "markdown",
      "metadata": {
        "id": "EmoO51lgfxNu"
      },
      "source": [
        "Buat file lokal untuk diunggah."
      ]
    },
    {
      "cell_type": "code",
      "metadata": {
        "id": "H1hCuobOfxrq"
      },
      "source": [
        "with open('/tmp/to_upload.txt', 'w') as f:\n",
        "  f.write('my sample file')\n",
        "\n",
        "print('/tmp/to_upload.txt contains:')\n",
        "!cat /tmp/to_upload.txt"
      ],
      "execution_count": null,
      "outputs": []
    },
    {
      "cell_type": "markdown",
      "metadata": {
        "id": "pHSt2zRDf73a"
      },
      "source": [
        "Buat bucket untuk mengunggah file ([documentation](https://cloud.google.com/storage/docs/gsutil/commands/mb))."
      ]
    },
    {
      "cell_type": "code",
      "metadata": {
        "id": "lBa9fd-gf8Ug"
      },
      "source": [
        "!gsutil mb gs://{bucket_name}"
      ],
      "execution_count": null,
      "outputs": []
    },
    {
      "cell_type": "markdown",
      "metadata": {
        "id": "DSP_xZ02gEES"
      },
      "source": [
        "Salin file ke bucket baru ([documentation](https://cloud.google.com/storage/docs/gsutil/commands/cp))."
      ]
    },
    {
      "cell_type": "code",
      "metadata": {
        "id": "CQf8wXYpgEhq"
      },
      "source": [
        "!gsutil cp /tmp/to_upload.txt gs://{bucket_name}/"
      ],
      "execution_count": null,
      "outputs": []
    },
    {
      "cell_type": "markdown",
      "metadata": {
        "id": "y3J-fIiygQJY"
      },
      "source": [
        "Buang konten file yang baru di salin untuk memastikan semuanya berfungsi ([documentation](https://cloud.google.com/storage/docs/gsutil/commands/cat)).\n"
      ]
    },
    {
      "cell_type": "code",
      "metadata": {
        "id": "xQiS7fHngQgb"
      },
      "source": [
        "!gsutil cat gs://{bucket_name}/to_upload.txt"
      ],
      "execution_count": null,
      "outputs": []
    },
    {
      "cell_type": "code",
      "metadata": {
        "id": "De8t5CGFmyoB"
      },
      "source": [
        "#@markdown Setelah unggahan selesai, data akan muncul di browser penyimpanan Cloud Console untuk proyek Anda:\n",
        "print('https://console.cloud.google.com/storage/browser?project=' + project_id)"
      ],
      "execution_count": null,
      "outputs": []
    },
    {
      "cell_type": "markdown",
      "metadata": {
        "id": "4lPjZYB_gjCR"
      },
      "source": [
        "Terakhir, mengunduh file yang baru saja diunggah pada contoh di atas. Ini semudah membalik urutan dalam perintah `gsutil cp`."
      ]
    },
    {
      "cell_type": "code",
      "metadata": {
        "id": "_0JejOUogj45"
      },
      "source": [
        "!gsutil cp gs://{bucket_name}/to_upload.txt /tmp/gsutil_download.txt\n",
        "  \n",
        "# Print the result to make sure the transfer worked.\n",
        "!cat /tmp/gsutil_download.txt"
      ],
      "execution_count": null,
      "outputs": []
    },
    {
      "cell_type": "markdown",
      "metadata": {
        "id": "Bu3-BQ2voLbp"
      },
      "source": [
        "## Python API\n",
        "\n",
        "Cuplikan ini didasarkan pada contoh [a larger example](https://github.com/GoogleCloudPlatform/storage-file-transfer-json-python/blob/master/chunked_transfer.py) yang menunjukkan penggunaan tambahan API.\n",
        "\n",
        "Pertama, membuat service client."
      ]
    },
    {
      "cell_type": "code",
      "metadata": {
        "id": "vbMSvScooMEK"
      },
      "source": [
        "from googleapiclient.discovery import build\n",
        "gcs_service = build('storage', 'v1')"
      ],
      "execution_count": null,
      "outputs": []
    },
    {
      "cell_type": "markdown",
      "metadata": {
        "id": "4LxeWqEHoOWH"
      },
      "source": [
        "Buat file lokal untuk diunggah."
      ]
    },
    {
      "cell_type": "code",
      "metadata": {
        "id": "6lCHN3X8oYQ1"
      },
      "source": [
        "with open('/tmp/to_upload.txt', 'w') as f:\n",
        "  f.write('my sample file')\n",
        "\n",
        "print('/tmp/to_upload.txt contains:')\n",
        "!cat /tmp/to_upload.txt"
      ],
      "execution_count": null,
      "outputs": []
    },
    {
      "cell_type": "markdown",
      "metadata": {
        "id": "-xdHzi4XodQJ"
      },
      "source": [
        "Buat bucket di proyek yang ditentukan di atas."
      ]
    },
    {
      "cell_type": "code",
      "metadata": {
        "id": "MLaJc-1Wodzu"
      },
      "source": [
        "# Use a different globally-unique bucket name from the gsutil example above.\n",
        "import uuid\n",
        "bucket_name = 'colab-sample-bucket-' + str(uuid.uuid1())\n",
        "\n",
        "body = {\n",
        "  'name': bucket_name,\n",
        "  # For a full list of locations, see:\n",
        "  # https://cloud.google.com/storage/docs/bucket-locations\n",
        "  'location': 'us',\n",
        "}\n",
        "gcs_service.buckets().insert(project=project_id, body=body).execute()\n",
        "print('Done')"
      ],
      "execution_count": null,
      "outputs": []
    },
    {
      "cell_type": "markdown",
      "metadata": {
        "id": "k8vbNkZPogEK"
      },
      "source": [
        "Unggah file ke bucket yang baru dibuat."
      ]
    },
    {
      "cell_type": "code",
      "metadata": {
        "id": "9Bz6jaaLoi5L"
      },
      "source": [
        "from googleapiclient.http import MediaFileUpload\n",
        "\n",
        "media = MediaFileUpload('/tmp/to_upload.txt', \n",
        "                        mimetype='text/plain',\n",
        "                        resumable=True)\n",
        "\n",
        "request = gcs_service.objects().insert(bucket=bucket_name, \n",
        "                                       name='to_upload.txt',\n",
        "                                       media_body=media)\n",
        "\n",
        "response = None\n",
        "while response is None:\n",
        "  # _ is a placeholder for a progress object that we ignore.\n",
        "  # (Our file is small, so we skip reporting progress.)\n",
        "  _, response = request.next_chunk()\n",
        "\n",
        "print('Upload complete')"
      ],
      "execution_count": null,
      "outputs": []
    },
    {
      "cell_type": "code",
      "metadata": {
        "id": "v9ydScDRooZq"
      },
      "source": [
        "#@markdown Setelah unggahan selesai, data akan muncul di browser penyimpanan Cloud Console untuk proyek Anda:\n",
        "print('https://console.cloud.google.com/storage/browser?project=' + project_id)"
      ],
      "execution_count": null,
      "outputs": []
    },
    {
      "cell_type": "markdown",
      "metadata": {
        "id": "bLJKD9Y7orcY"
      },
      "source": [
        "Unduh file yang baru saja di unggah."
      ]
    },
    {
      "cell_type": "code",
      "metadata": {
        "id": "fPbzy0zBosSO"
      },
      "source": [
        "from apiclient.http import MediaIoBaseDownload\n",
        "\n",
        "with open('/tmp/downloaded_from_gcs.txt', 'wb') as f:\n",
        "  request = gcs_service.objects().get_media(bucket=bucket_name,\n",
        "                                            object='to_upload.txt')\n",
        "  media = MediaIoBaseDownload(f, request)\n",
        "\n",
        "  done = False\n",
        "  while not done:\n",
        "    # _ is a placeholder for a progress object that we ignore.\n",
        "    # (Our file is small, so we skip reporting progress.)\n",
        "    _, done = media.next_chunk()\n",
        "\n",
        "print('Download complete')"
      ],
      "execution_count": null,
      "outputs": []
    },
    {
      "cell_type": "markdown",
      "metadata": {
        "id": "gFHulEWtozOc"
      },
      "source": [
        "Periksa file yang diunduh."
      ]
    },
    {
      "cell_type": "code",
      "metadata": {
        "id": "nkALfbipo0CG"
      },
      "source": [
        "!cat /tmp/downloaded_from_gcs.txt"
      ],
      "execution_count": null,
      "outputs": []
    }
  ]
}